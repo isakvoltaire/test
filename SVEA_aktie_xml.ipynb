{
 "cells": [
  {
   "cell_type": "markdown",
   "id": "9024c077-b2c3-4593-8ac0-e52de31ccf5a",
   "metadata": {},
   "source": [
    "# Creates XML file from SVEA's stock portfolio\n",
    "---"
   ]
  },
  {
   "cell_type": "markdown",
   "id": "5373cf57-05a0-4e43-9a3d-45d887fd7983",
   "metadata": {},
   "source": [
    "#### Libraries and functions\n",
    "> Run this cell to import libraries and define required functions."
   ]
  },
  {
   "cell_type": "code",
   "execution_count": 6,
   "id": "ce0fc1b8-3c82-477a-a724-a5b0ced14607",
   "metadata": {},
   "outputs": [],
   "source": [
    "import re\n",
    "import os\n",
    "import pandas as pd\n",
    "import xml.etree.ElementTree as ET\n",
    "from xml.dom import minidom\n",
    "import datetime as dt\n",
    "from datetime import timedelta\n",
    "import datetime\n",
    "import sys\n",
    "import numpy as np\n",
    "\n",
    "def prettify(elem):\n",
    "    rough_string = ET.tostring(elem, 'utf-8')\n",
    "    reparsed = minidom.parseString(rough_string)\n",
    "    return reparsed.toprettyxml(indent=\"\\t\")\n",
    "\n",
    "def write_xml(root, path, xml_name):\n",
    "        with open(os.path.join(path, xml_name), 'w') as f:\n",
    "            f.write(prettify(root))\n",
    "\n",
    "def equities_to_xml(df): \n",
    "    #Checks for ISIN duplicates\n",
    "    groups = df.groupby(by=\"ISIN\")\n",
    "    for key, item in groups:\n",
    "        if len(groups.get_group(key)) > 1:\n",
    "            print(\"*** Duplicated ISIN found:\", key)\n",
    "    # XMl tree\n",
    "    xml = ET.Element('Data')\n",
    "    for i in range(len(df)):\n",
    "        position = ET.SubElement(xml,'pos')\n",
    "        pf = ET.SubElement(position,'pf') # PF\n",
    "        ul_date = ET.SubElement(pf,'upload_date').text = str(upload_date.date()) \n",
    "        customer_id = ET.SubElement(pf,'customer_id').text = customer_name\n",
    "        portfolio = ET.SubElement(pf,'portfolio').text = portf\n",
    "        id = ET.SubElement(pf,'id').text = df['ID'][i]\n",
    "        system = ET.SubElement(pf,'system').text = syst\n",
    "        type = ET.SubElement(pf,'type').text = type_name\n",
    "        trader = ET.SubElement(pf,'trader').text = trader_name\n",
    "        equity = ET.SubElement(position,'equity') # equity\n",
    "        name = ET.SubElement(equity,'name').text = df['ID'][i]\n",
    "        id = ET.SubElement(equity,'id') # equity\n",
    "        type = ET.SubElement(id,'type').text = series_type\n",
    "        id_equity = ET.SubElement(id,'id').text = df['Serie'][i]\n",
    "        nominal = ET.SubElement(equity,'nominal').text = str(df['Nominellt'][i])\n",
    "        currency = ET.SubElement(equity,'currency').text = df['Valuta'][i]\n",
    "        classification = ET.SubElement(position,'classification') # equity\n",
    "        Client_instrument_type = ET.SubElement(classification,'Client_instrument_type').text = instru_type  \n",
    "    return xml"
   ]
  },
  {
   "cell_type": "markdown",
   "id": "dd455abe-88ce-41e7-b83c-9a34b77101f0",
   "metadata": {},
   "source": [
    "#### XML Parameters\n",
    "> Adjust XML parameters, i.e upload date"
   ]
  },
  {
   "cell_type": "code",
   "execution_count": 4,
   "id": "b0ac38d7-adb5-4c67-9bf3-a43f32f1aa45",
   "metadata": {},
   "outputs": [],
   "source": [
    "# Upload date:\n",
    "upload_date = datetime.datetime(2022,6,30)\n",
    "\n",
    "customer_name = 'SVEA Bank'\n",
    "portf = 'Assets_equities_listed'\n",
    "syst = 'Excel'\n",
    "market_name_SEK = 'XSTO' # Nasdaq Stockholm\n",
    "trader_name = 'svea'\n",
    "type_name = 'equity'\n",
    "series_type = 'ARMS_SERIES'\n",
    "instru_type = 'EQUITY'"
   ]
  },
  {
   "cell_type": "markdown",
   "id": "c52f7dc8-edb5-4b9e-932a-1451360d6742",
   "metadata": {
    "tags": []
   },
   "source": [
    "#### Read raw data"
   ]
  },
  {
   "cell_type": "code",
   "execution_count": 7,
   "id": "01cd16c0-ffe2-4514-a4e5-9e73027b05f5",
   "metadata": {},
   "outputs": [
    {
     "ename": "NameError",
     "evalue": "name 'last_day' is not defined",
     "output_type": "error",
     "traceback": [
      "\u001b[1;31m---------------------------------------------------------------------------\u001b[0m",
      "\u001b[1;31mNameError\u001b[0m                                 Traceback (most recent call last)",
      "Input \u001b[1;32mIn [7]\u001b[0m, in \u001b[0;36m<cell line: 1>\u001b[1;34m()\u001b[0m\n\u001b[1;32m----> 1\u001b[0m aktier \u001b[38;5;241m=\u001b[39m pd\u001b[38;5;241m.\u001b[39mread_excel(\u001b[38;5;124mf\u001b[39m\u001b[38;5;124m'\u001b[39m\u001b[38;5;124mPositioner \u001b[39m\u001b[38;5;132;01m{\u001b[39;00mlast_day\u001b[38;5;132;01m}\u001b[39;00m\u001b[38;5;124m SOLO - kopia.xlsx\u001b[39m\u001b[38;5;124m'\u001b[39m,sheet_name \u001b[38;5;241m=\u001b[39m \u001b[38;5;124m'\u001b[39m\u001b[38;5;124mAktieportfölj\u001b[39m\u001b[38;5;124m'\u001b[39m,usecols\u001b[38;5;241m=\u001b[39m\u001b[38;5;124m\"\u001b[39m\u001b[38;5;124mA:G\u001b[39m\u001b[38;5;124m\"\u001b[39m)\u001b[38;5;241m.\u001b[39mdropna(subset\u001b[38;5;241m=\u001b[39m[\u001b[38;5;124m'\u001b[39m\u001b[38;5;124mTyp av instrument\u001b[39m\u001b[38;5;124m'\u001b[39m])\n\u001b[0;32m      2\u001b[0m aktier[\u001b[38;5;124m\"\u001b[39m\u001b[38;5;124mID\u001b[39m\u001b[38;5;124m\"\u001b[39m] \u001b[38;5;241m=\u001b[39m aktier[\u001b[38;5;124m\"\u001b[39m\u001b[38;5;124mVärdepapper\u001b[39m\u001b[38;5;124m\"\u001b[39m]\u001b[38;5;241m.\u001b[39mstr\u001b[38;5;241m.\u001b[39mreplace(\u001b[38;5;124m\"\u001b[39m\u001b[38;5;124m Summa\u001b[39m\u001b[38;5;124m\"\u001b[39m, \u001b[38;5;124m\"\u001b[39m\u001b[38;5;124m\"\u001b[39m) \u001b[38;5;241m+\u001b[39m \u001b[38;5;124m\"\u001b[39m\u001b[38;5;124m_\u001b[39m\u001b[38;5;124m\"\u001b[39m \u001b[38;5;241m+\u001b[39m aktier[\u001b[38;5;124m\"\u001b[39m\u001b[38;5;124mISIN\u001b[39m\u001b[38;5;124m\"\u001b[39m]\n\u001b[0;32m      3\u001b[0m aktier[\u001b[38;5;124m\"\u001b[39m\u001b[38;5;124mSerie\u001b[39m\u001b[38;5;124m\"\u001b[39m] \u001b[38;5;241m=\u001b[39m aktier[\u001b[38;5;124m'\u001b[39m\u001b[38;5;124mISIN\u001b[39m\u001b[38;5;124m'\u001b[39m] \u001b[38;5;241m+\u001b[39m \u001b[38;5;124m\"\u001b[39m\u001b[38;5;124m_\u001b[39m\u001b[38;5;124m\"\u001b[39m \u001b[38;5;241m+\u001b[39m aktier[\u001b[38;5;124m'\u001b[39m\u001b[38;5;124mValuta\u001b[39m\u001b[38;5;124m'\u001b[39m] \u001b[38;5;241m+\u001b[39m \u001b[38;5;124m\"\u001b[39m\u001b[38;5;124m_\u001b[39m\u001b[38;5;124m\"\u001b[39m \u001b[38;5;241m+\u001b[39m market_name_SEK\n",
      "\u001b[1;31mNameError\u001b[0m: name 'last_day' is not defined"
     ]
    }
   ],
   "source": [
    "aktier = pd.read_excel(f'Positioner {last_day} SOLO - kopia.xlsx',sheet_name = 'Aktieportfölj',usecols=\"A:G\").dropna(subset=['Typ av instrument'])\n",
    "aktier[\"ID\"] = aktier[\"Värdepapper\"].str.replace(\" Summa\", \"\") + \"_\" + aktier[\"ISIN\"]\n",
    "aktier[\"Serie\"] = aktier['ISIN'] + \"_\" + aktier['Valuta'] + \"_\" + market_name_SEK"
   ]
  },
  {
   "cell_type": "markdown",
   "id": "48735e8b-6b0b-4008-84bd-4d15786ce83f",
   "metadata": {},
   "source": [
    "#### XML format"
   ]
  },
  {
   "cell_type": "code",
   "execution_count": 174,
   "id": "03bbfb33-43da-4d92-ae92-9125229b4a65",
   "metadata": {},
   "outputs": [
    {
     "name": "stdout",
     "output_type": "stream",
     "text": [
      "*** Duplicated ISIN found: SE0011563295\n"
     ]
    }
   ],
   "source": [
    "eq_xml_file = equities_to_xml(aktier)"
   ]
  },
  {
   "cell_type": "code",
   "execution_count": 154,
   "id": "6db48c8c-3332-473c-8edb-a3d60efbfbb7",
   "metadata": {},
   "outputs": [],
   "source": [
    "eq_xml_file = eq_xml(aktier2)"
   ]
  },
  {
   "cell_type": "code",
   "execution_count": 158,
   "id": "66d8aaa5-477a-423d-bbd9-42c1cedf6660",
   "metadata": {},
   "outputs": [],
   "source": [
    "write_xml(eq_xml_file, './', 'eq_20220930.xml')"
   ]
  }
 ],
 "metadata": {
  "kernelspec": {
   "display_name": "Python 3 (ipykernel)",
   "language": "python",
   "name": "python3"
  },
  "language_info": {
   "codemirror_mode": {
    "name": "ipython",
    "version": 3
   },
   "file_extension": ".py",
   "mimetype": "text/x-python",
   "name": "python",
   "nbconvert_exporter": "python",
   "pygments_lexer": "ipython3",
   "version": "3.9.12"
  }
 },
 "nbformat": 4,
 "nbformat_minor": 5
}
